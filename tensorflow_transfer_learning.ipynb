{
  "nbformat": 4,
  "nbformat_minor": 0,
  "metadata": {
    "colab": {
      "name": "VGG19.ipynb",
      "version": "0.3.2",
      "provenance": [],
      "collapsed_sections": []
    },
    "kernelspec": {
      "name": "python3",
      "display_name": "Python 3"
    },
    "accelerator": "GPU"
  },
  "cells": [
    {
      "cell_type": "markdown",
      "metadata": {
        "id": "QFw-LaD3JtQp",
        "colab_type": "text"
      },
      "source": [
        "**Example of image classification model creation using transfer learning**"
      ]
    },
    {
      "cell_type": "code",
      "metadata": {
        "id": "jRxdzIXpSaJ2",
        "colab_type": "code",
        "outputId": "58f5e4fb-c1d0-41fa-f1c8-346451af2be6",
        "colab": {
          "base_uri": "https://localhost:8080/",
          "height": 72
        }
      },
      "source": [
        "\n",
        "​\n",
        "# This will prompt for authorization.\n",
        "drive.mount('/content/drive')\n",
        "​\n",
        "# Modify to load your dataset\n",
        "!ls '/content/drive/My Drive/18-19/Trimestre 3/Project/final project collab/dataset/'\n",
        "base_dir = '/content/drive/My Drive/18-19/Trimestre 3/Project/final project collab/'\n",
        "\n",
        "##Opening Data And saving\n",
        "\n",
        "# Load the Drive helper and mount\n",
        "from google.colab import drive\n",
        "\n",
        "# This will prompt for authorization.\n",
        "drive.mount('/content/drive')\n",
        "\n",
        "# Modify to load your dataset\n",
        "!ls '/content/drive/My Drive/18-19/Trimestre 3/Project/final project collab/dataset/'\n",
        "base_dir = '/content/drive/My Drive/18-19/Trimestre 3/Project/final project collab/'"
      ],
      "execution_count": 0,
      "outputs": [
        {
          "output_type": "stream",
          "text": [
            "Drive already mounted at /content/drive; to attempt to forcibly remount, call drive.mount(\"/content/drive\", force_remount=True).\n",
            "Asian_F  Asian_M  Black_F  Black_M  Latino_F  Latino_M\tWhite_F  White_M\n"
          ],
          "name": "stdout"
        }
      ]
    },
    {
      "cell_type": "code",
      "metadata": {
        "id": "O4cXNax3u6f3",
        "colab_type": "code",
        "outputId": "b1138e28-e669-433c-dc41-93501a1a3d63",
        "colab": {
          "base_uri": "https://localhost:8080/",
          "height": 817
        }
      },
      "source": [
        "#import all needed libraries\n",
        "from __future__ import absolute_import, division, print_function, unicode_literals\n",
        "\n",
        "!pip install tf-nightly-gpu-2.0-preview\n",
        "!pip install tensorflowjs\n",
        "import tensorflow as tf\n",
        "\n",
        "\n",
        "import os\n",
        "import numpy as np\n",
        "import matplotlib.pyplot as plt"
      ],
      "execution_count": 0,
      "outputs": [
        {
          "output_type": "stream",
          "text": [
            "Requirement already satisfied: tf-nightly-gpu-2.0-preview in /usr/local/lib/python3.6/dist-packages (2.0.0.dev20190615)\n",
            "Requirement already satisfied: astor>=0.6.0 in /usr/local/lib/python3.6/dist-packages (from tf-nightly-gpu-2.0-preview) (0.8.0)\n",
            "Requirement already satisfied: google-pasta>=0.1.6 in /usr/local/lib/python3.6/dist-packages (from tf-nightly-gpu-2.0-preview) (0.1.7)\n",
            "Requirement already satisfied: absl-py>=0.7.0 in /usr/local/lib/python3.6/dist-packages (from tf-nightly-gpu-2.0-preview) (0.7.1)\n",
            "Requirement already satisfied: wrapt>=1.11.1 in /usr/local/lib/python3.6/dist-packages (from tf-nightly-gpu-2.0-preview) (1.11.1)\n",
            "Requirement already satisfied: gast>=0.2.0 in /usr/local/lib/python3.6/dist-packages (from tf-nightly-gpu-2.0-preview) (0.2.2)\n",
            "Requirement already satisfied: wheel>=0.26 in /usr/local/lib/python3.6/dist-packages (from tf-nightly-gpu-2.0-preview) (0.33.4)\n",
            "Requirement already satisfied: numpy<2.0,>=1.14.5 in /usr/local/lib/python3.6/dist-packages (from tf-nightly-gpu-2.0-preview) (1.15.1)\n",
            "Requirement already satisfied: tb-nightly<1.15.0a0,>=1.14.0a0 in /usr/local/lib/python3.6/dist-packages (from tf-nightly-gpu-2.0-preview) (1.14.0a20190614)\n",
            "Requirement already satisfied: six>=1.10.0 in /usr/local/lib/python3.6/dist-packages (from tf-nightly-gpu-2.0-preview) (1.11.0)\n",
            "Requirement already satisfied: keras-applications>=1.0.8 in /usr/local/lib/python3.6/dist-packages (from tf-nightly-gpu-2.0-preview) (1.0.8)\n",
            "Requirement already satisfied: keras-preprocessing>=1.0.5 in /usr/local/lib/python3.6/dist-packages (from tf-nightly-gpu-2.0-preview) (1.1.0)\n",
            "Requirement already satisfied: tensorflow-estimator-2.0-preview in /usr/local/lib/python3.6/dist-packages (from tf-nightly-gpu-2.0-preview) (1.14.0.dev2019061600)\n",
            "Requirement already satisfied: grpcio>=1.8.6 in /usr/local/lib/python3.6/dist-packages (from tf-nightly-gpu-2.0-preview) (1.15.0)\n",
            "Requirement already satisfied: protobuf>=3.6.1 in /usr/local/lib/python3.6/dist-packages (from tf-nightly-gpu-2.0-preview) (3.7.1)\n",
            "Requirement already satisfied: termcolor>=1.1.0 in /usr/local/lib/python3.6/dist-packages (from tf-nightly-gpu-2.0-preview) (1.1.0)\n",
            "Requirement already satisfied: markdown>=2.6.8 in /usr/local/lib/python3.6/dist-packages (from tb-nightly<1.15.0a0,>=1.14.0a0->tf-nightly-gpu-2.0-preview) (3.1.1)\n",
            "Requirement already satisfied: werkzeug>=0.11.15 in /usr/local/lib/python3.6/dist-packages (from tb-nightly<1.15.0a0,>=1.14.0a0->tf-nightly-gpu-2.0-preview) (0.15.4)\n",
            "Requirement already satisfied: setuptools>=41.0.0 in /usr/local/lib/python3.6/dist-packages (from tb-nightly<1.15.0a0,>=1.14.0a0->tf-nightly-gpu-2.0-preview) (41.0.1)\n",
            "Requirement already satisfied: h5py in /usr/local/lib/python3.6/dist-packages (from keras-applications>=1.0.8->tf-nightly-gpu-2.0-preview) (2.8.0)\n",
            "Requirement already satisfied: tensorflowjs in /usr/local/lib/python3.6/dist-packages (1.1.2)\n",
            "Requirement already satisfied: six==1.11.0 in /usr/local/lib/python3.6/dist-packages (from tensorflowjs) (1.11.0)\n",
            "Requirement already satisfied: numpy==1.15.1 in /usr/local/lib/python3.6/dist-packages (from tensorflowjs) (1.15.1)\n",
            "Requirement already satisfied: h5py==2.8.0 in /usr/local/lib/python3.6/dist-packages (from tensorflowjs) (2.8.0)\n",
            "Requirement already satisfied: tf-nightly-2.0-preview>=2.0.0.dev20190502 in /usr/local/lib/python3.6/dist-packages (from tensorflowjs) (2.0.0.dev20190615)\n",
            "Requirement already satisfied: tensorflow-hub==0.3.0 in /usr/local/lib/python3.6/dist-packages (from tensorflowjs) (0.3.0)\n",
            "Requirement already satisfied: keras==2.2.4 in /usr/local/lib/python3.6/dist-packages (from tensorflowjs) (2.2.4)\n",
            "Requirement already satisfied: absl-py>=0.7.0 in /usr/local/lib/python3.6/dist-packages (from tf-nightly-2.0-preview>=2.0.0.dev20190502->tensorflowjs) (0.7.1)\n",
            "Requirement already satisfied: protobuf>=3.6.1 in /usr/local/lib/python3.6/dist-packages (from tf-nightly-2.0-preview>=2.0.0.dev20190502->tensorflowjs) (3.7.1)\n",
            "Requirement already satisfied: tensorflow-estimator-2.0-preview in /usr/local/lib/python3.6/dist-packages (from tf-nightly-2.0-preview>=2.0.0.dev20190502->tensorflowjs) (1.14.0.dev2019061600)\n",
            "Requirement already satisfied: keras-preprocessing>=1.0.5 in /usr/local/lib/python3.6/dist-packages (from tf-nightly-2.0-preview>=2.0.0.dev20190502->tensorflowjs) (1.1.0)\n",
            "Requirement already satisfied: tb-nightly<1.15.0a0,>=1.14.0a0 in /usr/local/lib/python3.6/dist-packages (from tf-nightly-2.0-preview>=2.0.0.dev20190502->tensorflowjs) (1.14.0a20190614)\n",
            "Requirement already satisfied: wheel>=0.26 in /usr/local/lib/python3.6/dist-packages (from tf-nightly-2.0-preview>=2.0.0.dev20190502->tensorflowjs) (0.33.4)\n",
            "Requirement already satisfied: wrapt>=1.11.1 in /usr/local/lib/python3.6/dist-packages (from tf-nightly-2.0-preview>=2.0.0.dev20190502->tensorflowjs) (1.11.1)\n",
            "Requirement already satisfied: grpcio>=1.8.6 in /usr/local/lib/python3.6/dist-packages (from tf-nightly-2.0-preview>=2.0.0.dev20190502->tensorflowjs) (1.15.0)\n",
            "Requirement already satisfied: keras-applications>=1.0.8 in /usr/local/lib/python3.6/dist-packages (from tf-nightly-2.0-preview>=2.0.0.dev20190502->tensorflowjs) (1.0.8)\n",
            "Requirement already satisfied: astor>=0.6.0 in /usr/local/lib/python3.6/dist-packages (from tf-nightly-2.0-preview>=2.0.0.dev20190502->tensorflowjs) (0.8.0)\n",
            "Requirement already satisfied: termcolor>=1.1.0 in /usr/local/lib/python3.6/dist-packages (from tf-nightly-2.0-preview>=2.0.0.dev20190502->tensorflowjs) (1.1.0)\n",
            "Requirement already satisfied: gast>=0.2.0 in /usr/local/lib/python3.6/dist-packages (from tf-nightly-2.0-preview>=2.0.0.dev20190502->tensorflowjs) (0.2.2)\n",
            "Requirement already satisfied: google-pasta>=0.1.6 in /usr/local/lib/python3.6/dist-packages (from tf-nightly-2.0-preview>=2.0.0.dev20190502->tensorflowjs) (0.1.7)\n",
            "Requirement already satisfied: pyyaml in /usr/local/lib/python3.6/dist-packages (from keras==2.2.4->tensorflowjs) (3.13)\n",
            "Requirement already satisfied: scipy>=0.14 in /usr/local/lib/python3.6/dist-packages (from keras==2.2.4->tensorflowjs) (1.3.0)\n",
            "Requirement already satisfied: setuptools in /usr/local/lib/python3.6/dist-packages (from protobuf>=3.6.1->tf-nightly-2.0-preview>=2.0.0.dev20190502->tensorflowjs) (41.0.1)\n",
            "Requirement already satisfied: markdown>=2.6.8 in /usr/local/lib/python3.6/dist-packages (from tb-nightly<1.15.0a0,>=1.14.0a0->tf-nightly-2.0-preview>=2.0.0.dev20190502->tensorflowjs) (3.1.1)\n",
            "Requirement already satisfied: werkzeug>=0.11.15 in /usr/local/lib/python3.6/dist-packages (from tb-nightly<1.15.0a0,>=1.14.0a0->tf-nightly-2.0-preview>=2.0.0.dev20190502->tensorflowjs) (0.15.4)\n"
          ],
          "name": "stdout"
        }
      ]
    },
    {
      "cell_type": "code",
      "metadata": {
        "id": "GBYDjP9_vWL_",
        "colab_type": "code",
        "outputId": "ca4e1fd0-09c3-4aa3-e5ca-12d1db82f3e5",
        "colab": {
          "base_uri": "https://localhost:8080/",
          "height": 52
        }
      },
      "source": [
        "\n",
        "\n",
        "#Resize images\n",
        "\n",
        "SIZE_IMAGE = 224\n",
        "SIZE_BATCH = 64\n",
        "\n",
        "# split dataset for validatino and training\n",
        "\n",
        "dataset_dir = base_dir + 'dataset/'\n",
        "\n",
        "datagen_keras = tf.keras.preprocessing.image.ImageDataGenerator(\n",
        "    rescale=1./255, \n",
        "    validation_split=0.2)\n",
        "\n",
        "train_generator = datagen_keras.flow_from_directory(\n",
        "    dataset_dir,\n",
        "    target_size=(IMAGE_SIZE, IMAGE_SIZE),\n",
        "    batch_size=BATCH_SIZE, \n",
        "    subset='training')\n",
        "\n",
        "val_generator = datagen_keras.flow_from_directory(\n",
        "    dataset_dir,\n",
        "    target_size=(IMAGE_SIZE, IMAGE_SIZE),\n",
        "    batch_size=BATCH_SIZE, \n",
        "    subset='validation')"
      ],
      "execution_count": 0,
      "outputs": [
        {
          "output_type": "stream",
          "text": [
            "Found 968 images belonging to 8 classes.\n",
            "Found 239 images belonging to 8 classes.\n"
          ],
          "name": "stdout"
        }
      ]
    },
    {
      "cell_type": "code",
      "metadata": {
        "id": "5WVniyg-vlu5",
        "colab_type": "code",
        "outputId": "84e01f55-cb0c-4509-b124-0a9f335c9102",
        "colab": {
          "base_uri": "https://localhost:8080/",
          "height": 35
        }
      },
      "source": [
        "#Print shape to check image and batch size\n",
        "for batch_image, batch_label in train_generator:\n",
        "  break\n",
        "batch_image.shape, batch_label.shape"
      ],
      "execution_count": 0,
      "outputs": [
        {
          "output_type": "execute_result",
          "data": {
            "text/plain": [
              "((64, 224, 224, 3), (64, 8))"
            ]
          },
          "metadata": {
            "tags": []
          },
          "execution_count": 4
        }
      ]
    },
    {
      "cell_type": "code",
      "metadata": {
        "id": "9mWWi7x6UU1t",
        "colab_type": "code",
        "outputId": "734b7f22-e65b-46e8-c7c8-e7f8e3c2ff70",
        "colab": {
          "base_uri": "https://localhost:8080/",
          "height": 55
        }
      },
      "source": [
        "#Save class labels\n",
        "print (train_generator.class_indices)\n",
        "\n",
        "labels_generated = '\\n'.join(sorted(train_generator.class_indices.keys()))\n",
        "\n",
        "with open('labels_generated.txt', 'w') as f:\n",
        "  f.write(labels_generated)"
      ],
      "execution_count": 0,
      "outputs": [
        {
          "output_type": "stream",
          "text": [
            "{'Asian_F': 0, 'Asian_M': 1, 'Black_F': 2, 'Black_M': 3, 'Latino_F': 4, 'Latino_M': 5, 'White_F': 6, 'White_M': 7}\n"
          ],
          "name": "stdout"
        }
      ]
    },
    {
      "cell_type": "code",
      "metadata": {
        "id": "-dLKjt-XUXAO",
        "colab_type": "code",
        "outputId": "5a0f6525-1037-41b1-ec72-cd564e55aa07",
        "colab": {
          "base_uri": "https://localhost:8080/",
          "height": 156
        }
      },
      "source": [
        "#Print labels\n",
        "!cat labels_generated.txt"
      ],
      "execution_count": 0,
      "outputs": [
        {
          "output_type": "stream",
          "text": [
            "Asian_F\n",
            "Asian_M\n",
            "Black_F\n",
            "Black_M\n",
            "Latino_F\n",
            "Latino_M\n",
            "White_F\n",
            "White_M"
          ],
          "name": "stdout"
        }
      ]
    },
    {
      "cell_type": "code",
      "metadata": {
        "id": "lMLOVGOiXWqJ",
        "colab_type": "code",
        "outputId": "955a3c85-c7df-4da9-922f-94be7169bafa",
        "colab": {
          "base_uri": "https://localhost:8080/",
          "height": 72
        }
      },
      "source": [
        "# Create the base model from the pre-trained model (keras have VGG19, mobilenet, inception,resnet...) sing imagenet weights\n",
        "SHAPE_IMG = (SIZE_IMAGE, SIZE_IMAGE, 3)\n",
        "\n",
        "\n",
        "base_model = tf.keras.applications.VGG19(input_shape=SHAPE_IMG,\n",
        "                                              include_top=False, \n",
        "                                              weights='imagenet')\n",
        "\n",
        "#base_model = tf.keras.applications.InceptionV3(input_shape=SHAPE_IMG,\n",
        " #                                             include_top=False, \n",
        "  #                                            weights='imagenet')"
      ],
      "execution_count": 0,
      "outputs": [
        {
          "output_type": "stream",
          "text": [
            "Downloading data from https://github.com/fchollet/deep-learning-models/releases/download/v0.1/vgg19_weights_tf_dim_ordering_tf_kernels_notop.h5\n",
            "80142336/80134624 [==============================] - 1s 0us/step\n"
          ],
          "name": "stdout"
        }
      ]
    },
    {
      "cell_type": "code",
      "metadata": {
        "id": "hTwLYl1fXkyY",
        "colab_type": "code",
        "colab": {}
      },
      "source": [
        "#Freeze all layers except classification layer, we are using the base model as feature extractor\n",
        "base_model.trainable = False"
      ],
      "execution_count": 0,
      "outputs": []
    },
    {
      "cell_type": "code",
      "metadata": {
        "id": "9iAjqljKXuGa",
        "colab_type": "code",
        "colab": {}
      },
      "source": [
        "#Add classification layer\n",
        "model = tf.keras.Sequential([\n",
        "  base_model,\n",
        "  tf.keras.layers.Conv2D(32, 3, activation='relu'),\n",
        "  tf.keras.layers.Dropout(0.2),\n",
        "  tf.keras.layers.GlobalAveragePooling2D(),\n",
        "  tf.keras.layers.Dense(8, activation='softmax')\n",
        "])"
      ],
      "execution_count": 0,
      "outputs": []
    },
    {
      "cell_type": "code",
      "metadata": {
        "id": "5XugmoX0X5kn",
        "colab_type": "code",
        "colab": {}
      },
      "source": [
        "#Compile model\n",
        "model.compile(optimizer=tf.keras.optimizers.Adam(), \n",
        "              loss='categorical_crossentropy', \n",
        "              metrics=['accuracy'])"
      ],
      "execution_count": 0,
      "outputs": []
    },
    {
      "cell_type": "code",
      "metadata": {
        "id": "2C--gACRX8Ze",
        "colab_type": "code",
        "outputId": "9eee8e9d-8947-4a96-bb8e-e90a85638e74",
        "colab": {
          "base_uri": "https://localhost:8080/",
          "height": 329
        }
      },
      "source": [
        "#Print summary\n",
        "model.summary()"
      ],
      "execution_count": 0,
      "outputs": [
        {
          "output_type": "stream",
          "text": [
            "Model: \"sequential\"\n",
            "_________________________________________________________________\n",
            "Layer (type)                 Output Shape              Param #   \n",
            "=================================================================\n",
            "vgg19 (Model)                (None, 7, 7, 512)         20024384  \n",
            "_________________________________________________________________\n",
            "conv2d (Conv2D)              (None, 5, 5, 32)          147488    \n",
            "_________________________________________________________________\n",
            "dropout (Dropout)            (None, 5, 5, 32)          0         \n",
            "_________________________________________________________________\n",
            "global_average_pooling2d (Gl (None, 32)                0         \n",
            "_________________________________________________________________\n",
            "dense (Dense)                (None, 8)                 264       \n",
            "=================================================================\n",
            "Total params: 20,172,136\n",
            "Trainable params: 147,752\n",
            "Non-trainable params: 20,024,384\n",
            "_________________________________________________________________\n"
          ],
          "name": "stdout"
        }
      ]
    },
    {
      "cell_type": "code",
      "metadata": {
        "id": "f414rzKaYIRQ",
        "colab_type": "code",
        "outputId": "32f8cf40-39f8-4a2a-a21b-5912a5ab846f",
        "colab": {
          "base_uri": "https://localhost:8080/",
          "height": 35
        }
      },
      "source": [
        "print('Number of trainable variables = {}'.format(len(model.trainable_variables)))"
      ],
      "execution_count": 0,
      "outputs": [
        {
          "output_type": "stream",
          "text": [
            "Number of trainable variables = 4\n"
          ],
          "name": "stdout"
        }
      ]
    },
    {
      "cell_type": "code",
      "metadata": {
        "id": "5cGSvfFRYVzC",
        "colab_type": "code",
        "outputId": "37b66764-112a-4c28-9d44-bc1cfe495ff6",
        "colab": {
          "base_uri": "https://localhost:8080/",
          "height": 453
        }
      },
      "source": [
        "#Train model\n",
        "epochs = 10\n",
        "\n",
        "history = model.fit(train_generator, \n",
        "                    epochs=epochs, \n",
        "                    validation_data=val_generator)"
      ],
      "execution_count": 0,
      "outputs": [
        {
          "output_type": "stream",
          "text": [
            "Epoch 1/10\n"
          ],
          "name": "stdout"
        },
        {
          "output_type": "stream",
          "text": [
            "WARNING: Logging before flag parsing goes to stderr.\n",
            "W0616 08:25:24.145735 140031288887168 deprecation.py:323] From /usr/local/lib/python3.6/dist-packages/tensorflow_core/python/ops/math_grad.py:1251: add_dispatch_support.<locals>.wrapper (from tensorflow.python.ops.array_ops) is deprecated and will be removed in a future version.\n",
            "Instructions for updating:\n",
            "Use tf.where in 2.0, which has the same broadcast rule as np.where\n"
          ],
          "name": "stderr"
        },
        {
          "output_type": "stream",
          "text": [
            "16/16 [==============================] - 722s 45s/step - loss: 1.7434 - accuracy: 0.3853 - val_loss: 1.5722 - val_accuracy: 0.5105\n",
            "Epoch 2/10\n",
            "16/16 [==============================] - 647s 40s/step - loss: 1.4119 - accuracy: 0.5671 - val_loss: 1.3917 - val_accuracy: 0.5816\n",
            "Epoch 3/10\n",
            "16/16 [==============================] - 649s 41s/step - loss: 1.2251 - accuracy: 0.6167 - val_loss: 1.1910 - val_accuracy: 0.6360\n",
            "Epoch 4/10\n",
            "16/16 [==============================] - 648s 40s/step - loss: 1.0748 - accuracy: 0.6756 - val_loss: 1.1608 - val_accuracy: 0.6444\n",
            "Epoch 5/10\n",
            "16/16 [==============================] - 653s 41s/step - loss: 0.9684 - accuracy: 0.7087 - val_loss: 1.0926 - val_accuracy: 0.6611\n",
            "Epoch 6/10\n",
            "16/16 [==============================] - 644s 40s/step - loss: 0.8664 - accuracy: 0.7314 - val_loss: 1.0052 - val_accuracy: 0.6987\n",
            "Epoch 7/10\n",
            "16/16 [==============================] - 644s 40s/step - loss: 0.8079 - accuracy: 0.7428 - val_loss: 0.9751 - val_accuracy: 0.6946\n",
            "Epoch 8/10\n",
            "16/16 [==============================] - 648s 40s/step - loss: 0.7723 - accuracy: 0.7552 - val_loss: 0.9212 - val_accuracy: 0.7071\n",
            "Epoch 9/10\n",
            "16/16 [==============================] - 642s 40s/step - loss: 0.6974 - accuracy: 0.7800 - val_loss: 0.8642 - val_accuracy: 0.7322\n",
            "Epoch 10/10\n",
            "16/16 [==============================] - 648s 40s/step - loss: 0.6436 - accuracy: 0.7924 - val_loss: 0.8560 - val_accuracy: 0.7155\n"
          ],
          "name": "stdout"
        }
      ]
    },
    {
      "cell_type": "code",
      "metadata": {
        "id": "vH-M3GZyfLWX",
        "colab_type": "code",
        "outputId": "1e61a99c-659e-4545-c4a1-6dacde640511",
        "colab": {
          "base_uri": "https://localhost:8080/",
          "height": 513
        }
      },
      "source": [
        "#Learning curves\n",
        "\n",
        "acc = history.history['accuracy']\n",
        "val_acc = history.history['val_accuracy']\n",
        "\n",
        "loss = history.history['loss']\n",
        "val_loss = history.history['val_loss']\n",
        "\n",
        "plt.figure(figsize=(8, 8))\n",
        "plt.subplot(2, 1, 1)\n",
        "plt.plot(acc, label='Training Accuracy')\n",
        "plt.plot(val_acc, label='Validation Accuracy')\n",
        "plt.legend(loc='lower right')\n",
        "plt.ylabel('Accuracy')\n",
        "plt.ylim([min(plt.ylim()),1])\n",
        "plt.title('Training and Validation Accuracy')\n",
        "\n",
        "plt.subplot(2, 1, 2)\n",
        "plt.plot(loss, label='Training Loss')\n",
        "plt.plot(val_loss, label='Validation Loss')\n",
        "plt.legend(loc='upper right')\n",
        "plt.ylabel('Cross Entropy')\n",
        "plt.ylim([0,1.0])\n",
        "plt.title('Training and Validation Loss')\n",
        "plt.xlabel('epoch')\n",
        "plt.show()"
      ],
      "execution_count": 0,
      "outputs": [
        {
          "output_type": "display_data",
          "data": {
            "image/png": "[encoded data removed]",
            "text/plain": [
              "<Figure size 576x576 with 2 Axes>"
            ]
          },
          "metadata": {
            "tags": []
          }
        }
      ]
    },
    {
      "cell_type": "code",
      "metadata": {
        "id": "u4yCrwubRSeY",
        "colab_type": "code",
        "colab": {}
      },
      "source": [
        "#download tf js model in zip\n",
        "model.save('keras_eth_people_vgg19.h5')"
      ],
      "execution_count": 0,
      "outputs": []
    },
    {
      "cell_type": "code",
      "metadata": {
        "id": "ICQKCf7ZRSm9",
        "colab_type": "code",
        "colab": {}
      },
      "source": [
        "#Save model in folder and convert to json model\n",
        "!rm -rf model_eth_normal_vgg19\n",
        "!mkdir model_eth_normal_vgg19\n",
        "!tensorflowjs_converter --input_format keras keras_eth_people_vgg19.h5 model/"
      ],
      "execution_count": 0,
      "outputs": []
    },
    {
      "cell_type": "code",
      "metadata": {
        "id": "kvgTxI6rRSz-",
        "colab_type": "code",
        "outputId": "8e6b2047-245e-4efc-90aa-a5ed67e40b1e",
        "colab": {
          "base_uri": "https://localhost:8080/",
          "height": 399
        }
      },
      "source": [
        "!zip -r model_eth_normal_vgg19.zip model "
      ],
      "execution_count": 0,
      "outputs": [
        {
          "output_type": "stream",
          "text": [
            "  adding: model/ (stored 0%)\n",
            "  adding: model/group1-shard17of20.bin (deflated 7%)\n",
            "  adding: model/group1-shard9of20.bin (deflated 7%)\n",
            "  adding: model/group1-shard15of20.bin (deflated 7%)\n",
            "  adding: model/group1-shard18of20.bin (deflated 7%)\n",
            "  adding: model/group1-shard14of20.bin (deflated 7%)\n",
            "  adding: model/group1-shard4of20.bin (deflated 7%)\n",
            "  adding: model/model.json (deflated 92%)\n",
            "  adding: model/group1-shard5of20.bin (deflated 7%)\n",
            "  adding: model/group1-shard12of20.bin (deflated 7%)\n",
            "  adding: model/group1-shard20of20.bin (deflated 7%)\n",
            "  adding: model/group1-shard16of20.bin (deflated 7%)\n",
            "  adding: model/group1-shard13of20.bin (deflated 7%)\n",
            "  adding: model/group1-shard8of20.bin (deflated 7%)\n",
            "  adding: model/group1-shard11of20.bin (deflated 7%)\n",
            "  adding: model/group1-shard19of20.bin (deflated 7%)\n",
            "  adding: model/group1-shard2of20.bin (deflated 7%)\n",
            "  adding: model/group1-shard10of20.bin (deflated 7%)\n",
            "  adding: model/group1-shard3of20.bin (deflated 7%)\n",
            "  adding: model/group1-shard1of20.bin (deflated 7%)\n",
            "  adding: model/group1-shard6of20.bin (deflated 7%)\n",
            "  adding: model/group1-shard7of20.bin (deflated 7%)\n"
          ],
          "name": "stdout"
        }
      ]
    },
    {
      "cell_type": "code",
      "metadata": {
        "id": "3avrFAgFSchg",
        "colab_type": "code",
        "colab": {}
      },
      "source": [
        "from google.colab import files\n",
        "files.download('model_eth_normal_vgg19.zip')"
      ],
      "execution_count": 0,
      "outputs": []
    },
    {
      "cell_type": "code",
      "metadata": {
        "id": "cIxONQdMyEtL",
        "colab_type": "code",
        "colab": {}
      },
      "source": [
        "# Fine tuning, to improve the performance we can recalculate the weights when training\n",
        "base_model.trainable = True"
      ],
      "execution_count": 0,
      "outputs": []
    },
    {
      "cell_type": "code",
      "metadata": {
        "id": "Tn6qQ1KNyJ4Y",
        "colab_type": "code",
        "outputId": "16fee362-5432-4d4c-8629-118dc653d124",
        "colab": {
          "base_uri": "https://localhost:8080/",
          "height": 35
        }
      },
      "source": [
        "# Let's take a look to see how many layers are in the base model\n",
        "print(\"Number of layers in the base model: \", len(base_model.layers))\n",
        "\n",
        "# Fine tune from this layer onwards\n",
        "fine_tune_at = 10\n",
        "\n",
        "# Freeze all the layers before the `fine_tune_at` layer\n",
        "for layer in base_model.layers[:fine_tune_at]:\n",
        "  layer.trainable =  False"
      ],
      "execution_count": 0,
      "outputs": [
        {
          "output_type": "stream",
          "text": [
            "Number of layers in the base model:  22\n"
          ],
          "name": "stdout"
        }
      ]
    },
    {
      "cell_type": "code",
      "metadata": {
        "id": "O8g7GQaXS0c_",
        "colab_type": "code",
        "colab": {}
      },
      "source": [
        "model.compile(loss='categorical_crossentropy',\n",
        "              optimizer = tf.keras.optimizers.Adam(1e-5),\n",
        "              metrics=['accuracy'])"
      ],
      "execution_count": 0,
      "outputs": []
    },
    {
      "cell_type": "code",
      "metadata": {
        "id": "aOIbaMACS2fp",
        "colab_type": "code",
        "outputId": "7790ff16-ff0a-4a88-f3cb-09846d79fb9f",
        "colab": {
          "base_uri": "https://localhost:8080/",
          "height": 329
        }
      },
      "source": [
        "model.summary()"
      ],
      "execution_count": 0,
      "outputs": [
        {
          "output_type": "stream",
          "text": [
            "Model: \"sequential\"\n",
            "_________________________________________________________________\n",
            "Layer (type)                 Output Shape              Param #   \n",
            "=================================================================\n",
            "vgg19 (Model)                (None, 7, 7, 512)         20024384  \n",
            "_________________________________________________________________\n",
            "conv2d (Conv2D)              (None, 5, 5, 32)          147488    \n",
            "_________________________________________________________________\n",
            "dropout (Dropout)            (None, 5, 5, 32)          0         \n",
            "_________________________________________________________________\n",
            "global_average_pooling2d (Gl (None, 32)                0         \n",
            "_________________________________________________________________\n",
            "dense (Dense)                (None, 8)                 264       \n",
            "=================================================================\n",
            "Total params: 20,172,136\n",
            "Trainable params: 147,752\n",
            "Non-trainable params: 20,024,384\n",
            "_________________________________________________________________\n"
          ],
          "name": "stdout"
        }
      ]
    },
    {
      "cell_type": "code",
      "metadata": {
        "id": "LAEUasGnS64X",
        "colab_type": "code",
        "outputId": "630e6f29-35bf-48c9-a7a3-c69cb3eccde5",
        "colab": {
          "base_uri": "https://localhost:8080/",
          "height": 211
        }
      },
      "source": [
        "#train using fine tuning\n",
        "history_fine = model.fit(train_generator, \n",
        "                         epochs=5,\n",
        "                         validation_data=val_generator)"
      ],
      "execution_count": 0,
      "outputs": [
        {
          "output_type": "stream",
          "text": [
            "Epoch 1/5\n",
            "16/16 [==============================] - 684s 43s/step - loss: 0.6219 - accuracy: 0.8161 - val_loss: 0.8571 - val_accuracy: 0.7155\n",
            "Epoch 2/5\n",
            "16/16 [==============================] - 661s 41s/step - loss: 0.6358 - accuracy: 0.8068 - val_loss: 0.8426 - val_accuracy: 0.7071\n",
            "Epoch 3/5\n",
            "16/16 [==============================] - 658s 41s/step - loss: 0.6428 - accuracy: 0.8130 - val_loss: 0.8373 - val_accuracy: 0.7113\n",
            "Epoch 4/5\n",
            "16/16 [==============================] - 661s 41s/step - loss: 0.6283 - accuracy: 0.8110 - val_loss: 0.8438 - val_accuracy: 0.7113\n",
            "Epoch 5/5\n",
            "16/16 [==============================] - 658s 41s/step - loss: 0.6285 - accuracy: 0.8110 - val_loss: 0.8449 - val_accuracy: 0.7029\n"
          ],
          "name": "stdout"
        }
      ]
    },
    {
      "cell_type": "code",
      "metadata": {
        "id": "ayimK4v9S9Ur",
        "colab_type": "code",
        "outputId": "edb1f3e1-85b4-443b-fc28-f9bb3b5d3105",
        "colab": {
          "base_uri": "https://localhost:8080/",
          "height": 513
        }
      },
      "source": [
        "acc = history_fine.history['accuracy']\n",
        "val_acc = history_fine.history['val_accuracy']\n",
        "\n",
        "loss = history_fine.history['loss']\n",
        "val_loss = history_fine.history['val_loss']\n",
        "\n",
        "plt.figure(figsize=(8, 8))\n",
        "plt.subplot(2, 1, 1)\n",
        "plt.plot(acc, label='Training Accuracy')\n",
        "plt.plot(val_acc, label='Validation Accuracy')\n",
        "plt.legend(loc='lower right')\n",
        "plt.ylabel('Accuracy')\n",
        "plt.ylim([min(plt.ylim()),1])\n",
        "plt.title('Training and Validation Accuracy')\n",
        "\n",
        "plt.subplot(2, 1, 2)\n",
        "plt.plot(loss, label='Training Loss')\n",
        "plt.plot(val_loss, label='Validation Loss')\n",
        "plt.legend(loc='upper right')\n",
        "plt.ylabel('Cross Entropy')\n",
        "plt.ylim([0,1.0])\n",
        "plt.title('Training and Validation Loss')\n",
        "plt.xlabel('epoch')\n",
        "plt.show()"
      ],
      "execution_count": 0,
      "outputs": [
        {
          "output_type": "display_data",
          "data": {
            "image/png": "[encoded data removed]",
            "text/plain": [
              "<Figure size 576x576 with 2 Axes>"
            ]
          },
          "metadata": {
            "tags": []
          }
        }
      ]
    },
    {
      "cell_type": "code",
      "metadata": {
        "id": "sOlpryhiS_9b",
        "colab_type": "code",
        "colab": {}
      },
      "source": [
        "#download tf js model in zip\n",
        "model.save('keras_eth_people_fine_tuned_vgg19.h5')"
      ],
      "execution_count": 0,
      "outputs": []
    },
    {
      "cell_type": "code",
      "metadata": {
        "id": "ZWndSoZGTMps",
        "colab_type": "code",
        "colab": {}
      },
      "source": [
        "!mkdir model_eth_fine_tuned_vgg19\n",
        "!tensorflowjs_converter --input_format keras keras_eth_people_fine_tuned_vgg19.h5 model/"
      ],
      "execution_count": 0,
      "outputs": []
    },
    {
      "cell_type": "code",
      "metadata": {
        "id": "gAWTR0C9TP33",
        "colab_type": "code",
        "outputId": "1c469dc2-47d3-4b1e-9e86-87d43166450a",
        "colab": {
          "base_uri": "https://localhost:8080/",
          "height": 399
        }
      },
      "source": [
        "!zip -r model_eth_fine_tuned_vgg19.zip model "
      ],
      "execution_count": 0,
      "outputs": [
        {
          "output_type": "stream",
          "text": [
            "  adding: model/ (stored 0%)\n",
            "  adding: model/group1-shard17of20.bin (deflated 7%)\n",
            "  adding: model/group1-shard9of20.bin (deflated 7%)\n",
            "  adding: model/group1-shard15of20.bin (deflated 7%)\n",
            "  adding: model/group1-shard18of20.bin (deflated 7%)\n",
            "  adding: model/group1-shard14of20.bin (deflated 7%)\n",
            "  adding: model/group1-shard4of20.bin (deflated 7%)\n",
            "  adding: model/model.json (deflated 91%)\n",
            "  adding: model/group1-shard5of20.bin (deflated 7%)\n",
            "  adding: model/group1-shard12of20.bin (deflated 7%)\n",
            "  adding: model/group1-shard20of20.bin (deflated 7%)\n",
            "  adding: model/group1-shard16of20.bin (deflated 7%)\n",
            "  adding: model/group1-shard13of20.bin (deflated 7%)\n",
            "  adding: model/group1-shard8of20.bin (deflated 7%)\n",
            "  adding: model/group1-shard11of20.bin (deflated 7%)\n",
            "  adding: model/group1-shard19of20.bin (deflated 7%)\n",
            "  adding: model/group1-shard2of20.bin (deflated 7%)\n",
            "  adding: model/group1-shard10of20.bin (deflated 7%)\n",
            "  adding: model/group1-shard3of20.bin (deflated 7%)\n",
            "  adding: model/group1-shard1of20.bin (deflated 7%)\n",
            "  adding: model/group1-shard6of20.bin (deflated 7%)\n",
            "  adding: model/group1-shard7of20.bin (deflated 7%)\n"
          ],
          "name": "stdout"
        }
      ]
    },
    {
      "cell_type": "code",
      "metadata": {
        "id": "Lu3JBSdmTSFY",
        "colab_type": "code",
        "colab": {}
      },
      "source": [
        "from google.colab import files\n",
        "files.download('model_eth_fine_tuned_vgg19.zip')"
      ],
      "execution_count": 0,
      "outputs": []
    }
  ]
}